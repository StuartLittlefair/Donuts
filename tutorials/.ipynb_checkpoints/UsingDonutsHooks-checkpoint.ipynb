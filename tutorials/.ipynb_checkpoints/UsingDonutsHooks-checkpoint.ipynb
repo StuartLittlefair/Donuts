{
 "cells": [
  {
   "cell_type": "markdown",
   "metadata": {},
   "source": [
    "# Using pre/post construction hooks in Donuts\n",
    "\n",
    "The Donuts ```Image``` class has 2 special functions. One that works on an image before the standard procedure and one that works on it afterwards. You can sub-class the ```Image``` class and assign your own functions to the hooks to add extra functionality to Donuts. Below is an example of a pre-construction hook. "
   ]
  },
  {
   "cell_type": "code",
   "execution_count": 1,
   "metadata": {},
   "outputs": [],
   "source": [
    "import os\n",
    "from astropy.io import fits\n",
    "import donuts"
   ]
  },
  {
   "cell_type": "code",
   "execution_count": 2,
   "metadata": {},
   "outputs": [
    {
     "name": "stdout",
     "output_type": "stream",
     "text": [
      "[[942 929 941 ... 945 946 941]\n",
      " [936 929 944 ... 934 937 934]\n",
      " [944 940 949 ... 937 940 929]\n",
      " ...\n",
      " [941 936 940 ... 942 946 936]\n",
      " [943 937 935 ... 937 937 943]\n",
      " [936 936 943 ... 937 944 931]]\n"
     ]
    }
   ],
   "source": [
    "os.chdir('/Users/jmcc/Desktop/NG2325-2844_803')\n",
    "test_file = \"NG2325-2844_803_IMAGE80320190523073419.fits\"\n",
    "\n",
    "# open the test file so we can see the values\n",
    "with fits.open(test_file) as ff:\n",
    "    data = ff[0].data\n",
    "\n",
    "print(data)"
   ]
  },
  {
   "cell_type": "code",
   "execution_count": 3,
   "metadata": {},
   "outputs": [
    {
     "name": "stderr",
     "output_type": "stream",
     "text": [
      "WARNING: Exposure time keyword \"EXPTIME\" not found, assuming 1.0 [donuts.image]\n"
     ]
    },
    {
     "data": {
      "text/plain": [
       "array([[842., 829., 841., ..., 845., 846., 841.],\n",
       "       [836., 829., 844., ..., 834., 837., 834.],\n",
       "       [844., 840., 849., ..., 837., 840., 829.],\n",
       "       ...,\n",
       "       [841., 836., 840., ..., 842., 846., 836.],\n",
       "       [843., 837., 835., ..., 837., 837., 843.],\n",
       "       [836., 836., 843., ..., 837., 844., 831.]])"
      ]
     },
     "execution_count": 3,
     "metadata": {},
     "output_type": "execute_result"
    }
   ],
   "source": [
    "# sub class the Image class and redefine the preconstruct_hook function\n",
    "class NewImage(donuts.image.Image):\n",
    "    def preconstruct_hook(self):\n",
    "        \"\"\"\n",
    "        Here we have access to the full raw_image, untrimmed or \n",
    "        uncropped in any way. In this example we simply remove \n",
    "        100 counts from each pixel as a demonstration of the hook\n",
    "        \"\"\"\n",
    "        self.raw_image = self.raw_image - 100.\n",
    "\n",
    "# Instantiate the new Image class and pass it to donuts\n",
    "# All the other class methods ae inherited as normal\n",
    "custom_image_class = NewImage\n",
    "\n",
    "# now we initalise donuts using the modified Image class with our own special feature\n",
    "d = donuts.Donuts(test_file, image_class=custom_image_class)\n",
    "\n",
    "# now we check the raw_image data and it should show 100 counts less than above\n",
    "d.reference_image.raw_image"
   ]
  },
  {
   "cell_type": "code",
   "execution_count": 4,
   "metadata": {},
   "outputs": [
    {
     "name": "stderr",
     "output_type": "stream",
     "text": [
      "WARNING: Exposure time keyword \"EXPTIME\" not found, assuming 1.0 [donuts.image]\n"
     ]
    },
    {
     "name": "stdout",
     "output_type": "stream",
     "text": [
      "0.0 pix 0.0 pix\n"
     ]
    }
   ],
   "source": [
    "# finally we measure the shift of the image wrt itself, which should be 0 pixels\n",
    "shift = d.measure_shift(test_file)\n",
    "print(shift.x, shift.y)"
   ]
  }
 ],
 "metadata": {
  "kernelspec": {
   "display_name": "Python 3",
   "language": "python",
   "name": "python3"
  },
  "language_info": {
   "codemirror_mode": {
    "name": "ipython",
    "version": 3
   },
   "file_extension": ".py",
   "mimetype": "text/x-python",
   "name": "python",
   "nbconvert_exporter": "python",
   "pygments_lexer": "ipython3",
   "version": "3.6.0"
  }
 },
 "nbformat": 4,
 "nbformat_minor": 2
}
